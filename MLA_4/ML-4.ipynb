{
 "cells": [
  {
   "cell_type": "markdown",
   "metadata": {
    "id": "L4z2vb3MxCED"
   },
   "source": [
    "# Assignment on k-Means Clustering"
   ]
  },
  {
   "cell_type": "markdown",
   "metadata": {
    "id": "JDBZPEXjxCEV"
   },
   "source": [
    "## Problem Statement:\n",
    "We have given a collection of 8 points. \n",
    "\n",
    "| Point | x-coordinate | y-coodinate |\n",
    "| :-: | :-: | :-: |\n",
    "| P1 | 0.1 | 0.6 |\n",
    "| P2 | 0.15 | 0.71 |\n",
    "| P3 | 0.08 | 0.9 |\n",
    "| P4 | 0.16 | 0.85 |\n",
    "| P5 | 0.2 | 0.3 | \n",
    "| P6 | 0.25 | 0.5 | \n",
    "| P7 | 0.24 | 0.1 | \n",
    "| P8 | 0.3 | 0.2 | \n",
    "\n",
    "Perform the k-mean clustering with initial centroids as m1=P1 = Cluster#1=C1 and m2=P8=cluster#2=C2 and answer the following questions based on the clusters formed\n",
    "1. Which cluster does P6 belong to?\n",
    "2. What is the population of cluster around m2?\n",
    "3. What is updated value of m1 and m2?"
   ]
  },
  {
   "cell_type": "code",
   "execution_count": 1,
   "metadata": {
    "id": "o-qGQA0SxCEf"
   },
   "outputs": [],
   "source": [
    "# Importing libraries\n",
    "import pandas as pd\n",
    "import numpy as np\n",
    "import matplotlib.pyplot as plt\n",
    "import seaborn as sns\n",
    "import threading\n",
    "import random\n",
    "from sklearn.cluster import KMeans\n",
    "import warnings\n",
    "warnings.filterwarnings('ignore')\n",
    "import sys"
   ]
  },
  {
   "cell_type": "code",
   "execution_count": 2,
   "metadata": {
    "id": "yw8EjG36xCEg"
   },
   "outputs": [],
   "source": [
    "data = {\n",
    "    'point': ['P1', 'P2', 'P3', 'P4', 'P5', 'P6', 'P7', 'P8'],\n",
    "    'x': [0.1, 0.15, 0.08, 0.16, 0.2, 0.25, 0.24, 0.3], \n",
    "    'y': [0.6, 0.71, 0.9, 0.85, 0.3, 0.5, 0.1, 0.2]\n",
    "} \n",
    "df = pd.DataFrame.from_dict(data) \n",
    "label = \"label\""
   ]
  },
  {
   "cell_type": "code",
   "execution_count": 3,
   "metadata": {
    "id": "g2prFBdzxCEh",
    "outputId": "b0636acf-7a2f-4a27-df83-c00e5d4cb277"
   },
   "outputs": [
    {
     "data": {
      "text/html": [
       "<div>\n",
       "<style scoped>\n",
       "    .dataframe tbody tr th:only-of-type {\n",
       "        vertical-align: middle;\n",
       "    }\n",
       "\n",
       "    .dataframe tbody tr th {\n",
       "        vertical-align: top;\n",
       "    }\n",
       "\n",
       "    .dataframe thead th {\n",
       "        text-align: right;\n",
       "    }\n",
       "</style>\n",
       "<table border=\"1\" class=\"dataframe\">\n",
       "  <thead>\n",
       "    <tr style=\"text-align: right;\">\n",
       "      <th></th>\n",
       "      <th>point</th>\n",
       "      <th>x</th>\n",
       "      <th>y</th>\n",
       "    </tr>\n",
       "  </thead>\n",
       "  <tbody>\n",
       "    <tr>\n",
       "      <th>0</th>\n",
       "      <td>P1</td>\n",
       "      <td>0.10</td>\n",
       "      <td>0.60</td>\n",
       "    </tr>\n",
       "    <tr>\n",
       "      <th>1</th>\n",
       "      <td>P2</td>\n",
       "      <td>0.15</td>\n",
       "      <td>0.71</td>\n",
       "    </tr>\n",
       "    <tr>\n",
       "      <th>2</th>\n",
       "      <td>P3</td>\n",
       "      <td>0.08</td>\n",
       "      <td>0.90</td>\n",
       "    </tr>\n",
       "    <tr>\n",
       "      <th>3</th>\n",
       "      <td>P4</td>\n",
       "      <td>0.16</td>\n",
       "      <td>0.85</td>\n",
       "    </tr>\n",
       "    <tr>\n",
       "      <th>4</th>\n",
       "      <td>P5</td>\n",
       "      <td>0.20</td>\n",
       "      <td>0.30</td>\n",
       "    </tr>\n",
       "  </tbody>\n",
       "</table>\n",
       "</div>"
      ],
      "text/plain": [
       "  point     x     y\n",
       "0    P1  0.10  0.60\n",
       "1    P2  0.15  0.71\n",
       "2    P3  0.08  0.90\n",
       "3    P4  0.16  0.85\n",
       "4    P5  0.20  0.30"
      ]
     },
     "execution_count": 3,
     "metadata": {},
     "output_type": "execute_result"
    }
   ],
   "source": [
    "df.head()"
   ]
  },
  {
   "cell_type": "code",
   "execution_count": 4,
   "metadata": {
    "id": "B8iNc36mxCEj",
    "outputId": "4e46c063-f1cf-46e5-f5fb-cbccdfcddb20"
   },
   "outputs": [
    {
     "data": {
      "text/html": [
       "<div>\n",
       "<style scoped>\n",
       "    .dataframe tbody tr th:only-of-type {\n",
       "        vertical-align: middle;\n",
       "    }\n",
       "\n",
       "    .dataframe tbody tr th {\n",
       "        vertical-align: top;\n",
       "    }\n",
       "\n",
       "    .dataframe thead th {\n",
       "        text-align: right;\n",
       "    }\n",
       "</style>\n",
       "<table border=\"1\" class=\"dataframe\">\n",
       "  <thead>\n",
       "    <tr style=\"text-align: right;\">\n",
       "      <th></th>\n",
       "      <th>count</th>\n",
       "      <th>mean</th>\n",
       "      <th>std</th>\n",
       "      <th>min</th>\n",
       "      <th>25%</th>\n",
       "      <th>50%</th>\n",
       "      <th>75%</th>\n",
       "      <th>max</th>\n",
       "    </tr>\n",
       "  </thead>\n",
       "  <tbody>\n",
       "    <tr>\n",
       "      <th>x</th>\n",
       "      <td>8.0</td>\n",
       "      <td>0.185</td>\n",
       "      <td>0.076345</td>\n",
       "      <td>0.08</td>\n",
       "      <td>0.1375</td>\n",
       "      <td>0.18</td>\n",
       "      <td>0.2425</td>\n",
       "      <td>0.3</td>\n",
       "    </tr>\n",
       "    <tr>\n",
       "      <th>y</th>\n",
       "      <td>8.0</td>\n",
       "      <td>0.520</td>\n",
       "      <td>0.298424</td>\n",
       "      <td>0.10</td>\n",
       "      <td>0.2750</td>\n",
       "      <td>0.55</td>\n",
       "      <td>0.7450</td>\n",
       "      <td>0.9</td>\n",
       "    </tr>\n",
       "  </tbody>\n",
       "</table>\n",
       "</div>"
      ],
      "text/plain": [
       "   count   mean       std   min     25%   50%     75%  max\n",
       "x    8.0  0.185  0.076345  0.08  0.1375  0.18  0.2425  0.3\n",
       "y    8.0  0.520  0.298424  0.10  0.2750  0.55  0.7450  0.9"
      ]
     },
     "execution_count": 4,
     "metadata": {},
     "output_type": "execute_result"
    }
   ],
   "source": [
    "df.describe().T"
   ]
  },
  {
   "cell_type": "code",
   "execution_count": 5,
   "metadata": {
    "id": "2nJ3X9gbxCEj",
    "outputId": "39d056dd-99c4-4766-92c2-cc67befe6af1"
   },
   "outputs": [
    {
     "data": {
      "text/plain": [
       "(8, 3)"
      ]
     },
     "execution_count": 5,
     "metadata": {},
     "output_type": "execute_result"
    }
   ],
   "source": [
    "df.shape"
   ]
  },
  {
   "cell_type": "code",
   "execution_count": 6,
   "metadata": {
    "id": "ay0sihi6xCEk",
    "outputId": "354088a9-85b1-4be5-aa7c-f277612941fb"
   },
   "outputs": [
    {
     "data": {
      "text/plain": [
       "<AxesSubplot:xlabel='x', ylabel='y'>"
      ]
     },
     "execution_count": 6,
     "metadata": {},
     "output_type": "execute_result"
    },
    {
     "data": {
      "image/png": "[encoded data removed]",
      "text/plain": [
       "<Figure size 432x288 with 1 Axes>"
      ]
     },
     "metadata": {
      "needs_background": "light"
     },
     "output_type": "display_data"
    }
   ],
   "source": [
    "sns.scatterplot(data=df, x=\"x\", y=\"y\")"
   ]
  },
  {
   "cell_type": "code",
   "execution_count": 7,
   "metadata": {
    "id": "4uteLxkgxCEo"
   },
   "outputs": [],
   "source": [
    "# Function to calculate euclidean distance between two points\n",
    "def euclidean_distance(point_a, point_b):\n",
    "    '''\n",
    "    params: {point_a, point_b}\n",
    "    - point_a, point_b : { coordinates of a point in the dataset }\n",
    "    - type : list\n",
    "    \n",
    "    - returns: {distance}\n",
    "    - distance : { Euclidean distance between point_a and point_b }\n",
    "    - type: float\n",
    "    '''\n",
    "    distance = 0\n",
    "    for i in range(len(point_a)):\n",
    "        distance = distance + (point_a[i]-point_b[i])**2\n",
    "    return distance**0.5"
   ]
  },
  {
   "cell_type": "code",
   "execution_count": 8,
   "metadata": {
    "id": "NqqBL4mgxCEo"
   },
   "outputs": [],
   "source": [
    "# Function to check if the provided parameters are correct\n",
    "def check_data(data, n_clusters, centroids):\n",
    "    '''\n",
    "    params: {data, n_clusters, centroids}\n",
    "    - data : { Input data }\n",
    "    - type : list\n",
    "    \n",
    "    - returns: {is_valid}\n",
    "    - is_valid : { True, False }\n",
    "    '''\n",
    "    if len(data) < n_clusters or n_clusters < 1:\n",
    "        print(\"Number of clusters must be less than or equal to the size of input data!\")\n",
    "        return False\n",
    "    if len(centroids) > 0 and len(centroids) != n_clusters:\n",
    "        print(f\"Number of clusters and centroids must be equal!\")\n",
    "        return False\n",
    "    return True"
   ]
  },
  {
   "cell_type": "code",
   "execution_count": 9,
   "metadata": {
    "id": "J5yP9XiWxCEp"
   },
   "outputs": [],
   "source": [
    "# Funtion to implement K Means algorithm\n",
    "def k_means(data, n_clusters, centroids=[]):\n",
    "    '''\n",
    "    params: {data, n_clusters, centroids}\n",
    "    - data : { Input data }\n",
    "    - type : list\n",
    "    \n",
    "    - n_clusters : {number of clusters}\n",
    "    - type : int\n",
    "    \n",
    "    - centroids: {initial centroid points}\n",
    "    - type : list\n",
    "    \n",
    "    - returns: {clusters, new_centroids, inertia}\n",
    "    - clusters: {centroid assignment for each point in the dataset}\n",
    "    - type : list\n",
    "    \n",
    "    - new_centroids: {final centroid points}\n",
    "    - type : list  \n",
    "    \n",
    "    - inertia: {inertial of new centroids}\n",
    "    - type : float\n",
    "    \n",
    "    '''\n",
    "    # Initializing centroids randomly of empty array is passsed\n",
    "    if len(centroids) == 0: centroids =  random.sample(data, n_clusters) \n",
    "    while True:\n",
    "        inertia = 0\n",
    "        clusters = {f\"cluster_{k}\": [] for k in range(n_clusters)}\n",
    "        # Calculating distance between centroids and each point in the dataset \n",
    "        for point in data:\n",
    "            distance = []\n",
    "            for centroid in centroids:\n",
    "                distance.append(euclidean_distance(point, centroid))\n",
    "            # Evaluating the nearest centroid for each data point\n",
    "            min_distance = distance.index(min(distance))\n",
    "            clusters[f\"cluster_{min_distance}\"].append(point)\n",
    "            inertia += min(distance)**2\n",
    "        new_centroids = []\n",
    "        # Calculating coordinates of new centroids\n",
    "        for i in clusters:\n",
    "            new_centroids.append([float(sum(col))/len(col) for col in zip(*clusters[i])])\n",
    "        if  sorted(centroids) == sorted(new_centroids):\n",
    "            return clusters, centroids, inertia\n",
    "        else: centroids = new_centroids"
   ]
  },
  {
   "cell_type": "code",
   "execution_count": 10,
   "metadata": {
    "id": "Uu4gLNHhxCEq"
   },
   "outputs": [],
   "source": [
    "# Funtion to plot clusters \n",
    "def plot_clusters(centroids, clusters):\n",
    "    '''\n",
    "    - pararms: {clusters, centroids}\n",
    "    - clusters: {centroid assignment for each point in the dataset}\n",
    "    - type : list\n",
    "    \n",
    "    - centroids: {initial centroid points}\n",
    "    - type : list  \n",
    "    '''\n",
    "    # Plotting points in each cluster\n",
    "    for i in clusters:\n",
    "        cluster = np.array(clusters[i])\n",
    "        x, y = cluster.T\n",
    "        plt.scatter(x, y, label=i)\n",
    "    # Plotting centroids for each cluster\n",
    "    for centroid in centroids:\n",
    "        x, y = np.array(centroid).T\n",
    "        plt.scatter(x, y, s=200, c='yellow')\n",
    "    plt.rcParams.update({'figure.figsize':(8,8), 'figure.dpi':100})\n",
    "    plt.title('Clusters')\n",
    "    plt.xlabel('x-coordinate')\n",
    "    plt.ylabel('y-coordinate')\n",
    "    plt.legend()\n",
    "    plt.show()"
   ]
  },
  {
   "cell_type": "code",
   "execution_count": 11,
   "metadata": {
    "id": "886WlIeCxCEr"
   },
   "outputs": [],
   "source": [
    "# Function to determine max k value for elbow method\n",
    "def evaluate_max_k(length):\n",
    "    if length > 10:\n",
    "        if length**0.5 < 10:\n",
    "            return 10\n",
    "        else:\n",
    "            return length**0.5\n",
    "    else:\n",
    "        return length"
   ]
  },
  {
   "cell_type": "code",
   "execution_count": 12,
   "metadata": {
    "id": "YVQ6bb9TxCEv"
   },
   "outputs": [],
   "source": [
    "# Wrapper function for implementing k-means using threads\n",
    "def wrapper(data, n_clusters, wcss, centroids):\n",
    "    _, _, inertia = k_means(data, n_clusters, centroids)\n",
    "    wcss[n_clusters-1] = inertia"
   ]
  },
  {
   "cell_type": "code",
   "execution_count": 13,
   "metadata": {
    "id": "JEw0Z3lZxCEw"
   },
   "outputs": [],
   "source": [
    "# Function to parallelly implement multiple instances of kmeans to calculate wcss for different k values \n",
    "def get_wcss(data, n_centroids):\n",
    "    threads = []\n",
    "    max_k = evaluate_max_k(len(data))\n",
    "    k = range(1,max_k)\n",
    "    wcss =  [None]*len(k)\n",
    "    for n_clusters in k:\n",
    "        process = threading.Thread(target=wrapper, args=(data, n_clusters, wcss, n_centroids))\n",
    "        process.start()\n",
    "        threads.append(process)\n",
    "    for process in threads:\n",
    "        process.join()\n",
    "    return k, wcss"
   ]
  },
  {
   "cell_type": "code",
   "execution_count": 14,
   "metadata": {
    "id": "O7vn5Kn_xCEw"
   },
   "outputs": [],
   "source": [
    "# Function to plot elbow curve\n",
    "def plot_elbow_curve(k, wcss):\n",
    "    plt.figure(figsize=(8,8))\n",
    "    plt.plot(k, wcss, marker='o',ms = 10, mfc = 'red')\n",
    "    plt.title('Elbow Curve')\n",
    "    plt.xlabel('Number of clusters')\n",
    "    plt.ylabel('WCSS')\n",
    "    plt.show()"
   ]
  },
  {
   "cell_type": "code",
   "execution_count": 15,
   "metadata": {
    "id": "1v4tKgrWxCEx",
    "outputId": "d9692b02-3bdf-4583-d9d2-cca4db8c9110"
   },
   "outputs": [
    {
     "data": {
      "image/png": "[encoded data removed]",
      "text/plain": [
       "<Figure size 576x576 with 1 Axes>"
      ]
     },
     "metadata": {
      "needs_background": "light"
     },
     "output_type": "display_data"
    }
   ],
   "source": [
    "df_list = df[['x','y']].values.tolist()\n",
    "k, wcss = get_wcss(df_list, n_centroids=[])\n",
    "plot_elbow_curve(k, wcss)"
   ]
  },
  {
   "cell_type": "markdown",
   "metadata": {
    "id": "XPNw3GKvxCEx"
   },
   "source": [
    "From the elbow curve why try to find out a point known as the elbow point."
   ]
  },
  {
   "cell_type": "code",
   "execution_count": 16,
   "metadata": {
    "id": "khqKoK_LxCEy",
    "outputId": "b1a2c264-4e80-4112-c6ad-d150cdfdeb10"
   },
   "outputs": [
    {
     "name": "stdout",
     "output_type": "stream",
     "text": [
      "Enter number of clusters: 2\n"
     ]
    },
    {
     "data": {
      "image/png": "[encoded data removed]",
      "text/plain": [
       "<Figure size 432x288 with 1 Axes>"
      ]
     },
     "metadata": {
      "needs_background": "light"
     },
     "output_type": "display_data"
    }
   ],
   "source": [
    "n_clusters = int(input(\"Enter number of clusters: \"))\n",
    "centroids = [[0.1, 0.6], [0.3, 0.2]]\n",
    "clusters, centroids, inertia = k_means(df_list, n_clusters, centroids)\n",
    "plot_clusters(centroids, clusters)"
   ]
  },
  {
   "cell_type": "code",
   "execution_count": 17,
   "metadata": {
    "id": "vq0uq-SixCEy",
    "outputId": "624c13c6-99d3-40f3-ab99-86279065b49e"
   },
   "outputs": [
    {
     "name": "stdout",
     "output_type": "stream",
     "text": [
      "Centroids:  [[0.148, 0.712], [0.24666666666666667, 0.20000000000000004]]\n"
     ]
    }
   ],
   "source": [
    "print(\"Centroids: \",centroids)"
   ]
  },
  {
   "cell_type": "markdown",
   "metadata": {
    "id": "5JoxhA6DxCEz"
   },
   "source": [
    "## Sklearn Implementation"
   ]
  },
  {
   "cell_type": "code",
   "execution_count": 18,
   "metadata": {
    "id": "pPgFutIYxCE0"
   },
   "outputs": [],
   "source": [
    "X_num = df[['x','y']].to_numpy()\n",
    "centroids_num = np.array(centroids) if len(centroids) != 0 else 'random'"
   ]
  },
  {
   "cell_type": "code",
   "execution_count": 19,
   "metadata": {
    "id": "BLiTDjR8xCE1"
   },
   "outputs": [],
   "source": [
    "kmeans = KMeans(n_clusters = n_clusters, init = centroids_num)\n",
    "Y_kmeans = kmeans.fit_predict(X_num)"
   ]
  },
  {
   "cell_type": "code",
   "execution_count": 20,
   "metadata": {
    "id": "o0eZnrNuxCE2",
    "outputId": "dae1e694-1272-4caf-de1e-b971cc6fd863"
   },
   "outputs": [
    {
     "data": {
      "image/png": "[encoded data removed]",
      "text/plain": [
       "<Figure size 800x800 with 1 Axes>"
      ]
     },
     "metadata": {
      "needs_background": "light"
     },
     "output_type": "display_data"
    }
   ],
   "source": [
    "for i in range(n_clusters):\n",
    "    plt.scatter(X_num[Y_kmeans == i,0], X_num[Y_kmeans == i,1], label = f'Cluster {i}') \n",
    "plt.scatter(kmeans.cluster_centers_[:, 0], kmeans.cluster_centers_[:, 1], s = 200, c='yellow', label= 'Centroids')\n",
    "plt.rcParams.update({'figure.figsize':(8,8), 'figure.dpi':100})\n",
    "plt.title('Clusters')\n",
    "plt.xlabel('x-coordinate')\n",
    "plt.ylabel('y-coordinate')\n",
    "plt.legend()\n",
    "plt.show()"
   ]
  },
  {
   "cell_type": "markdown",
   "metadata": {
    "id": "Y1_48zGixCE7"
   },
   "source": [
    "## Disadvantages: \n",
    "- Inherently, K-means is NP-hard. For $d$ dimensions, $k$ clusters, and $n$ observations, we will find a solution in $O(n^{d k+1})$ time.\n",
    "- Sensitive to initial conditions and outliers.\n",
    "- Curse of dimensionality: K Means suffers from the curse of dimensionality as the number of dimensions increases, a distance-based similarity measure converges to a constant value between any given examples."
   ]
  },
  {
   "cell_type": "markdown",
   "metadata": {
    "id": "mClxNN6KxCFA"
   },
   "source": [
    "## Conclusion:\n",
    "\n",
    "K Means Clustering algorithm was used for clustering the points given in the dataset."
   ]
  }
 ],
 "metadata": {
  "colab": {
   "collapsed_sections": [],
   "name": "BE_LP3_Q2_41230_MLA4_O.ipynb",
   "provenance": []
  },
  "kernelspec": {
   "display_name": "Python 3",
   "language": "python",
   "name": "python3"
  },
  "language_info": {
   "codemirror_mode": {
    "name": "ipython",
    "version": 3
   },
   "file_extension": ".py",
   "mimetype": "text/x-python",
   "name": "python",
   "nbconvert_exporter": "python",
   "pygments_lexer": "ipython3",
   "version": "3.8.5"
  }
 },
 "nbformat": 4,
 "nbformat_minor": 1
}

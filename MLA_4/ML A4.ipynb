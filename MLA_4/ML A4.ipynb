{
 "cells": [
  {
   "cell_type": "markdown",
   "metadata": {},
   "source": [
    "## Problem Statement:\n",
    "We have given a collection of 8 points. \n",
    "\n",
    "| Point | x-coordinate | y-coodinate |\n",
    "| :-: | :-: | :-: |\n",
    "| P1 | 0.1 | 0.6 |\n",
    "| P2 | 0.15 | 0.71 |\n",
    "| P3 | 0.08 | 0.9 |\n",
    "| P4 | 0.16 | 0.85 |\n",
    "| P5 | 0.2 | 0.3 | \n",
    "| P6 | 0.25 | 0.5 | \n",
    "| P7 | 0.24 | 0.1 | \n",
    "| P8 | 0.3 | 0.2 | \n",
    "\n",
    "Perform the k-mean clustering with initial centroids as m1=P1 = Cluster#1=C1 and m2=P8=cluster#2=C2 and answer the following questions based on the clusters formed\n",
    "1. Which cluster does P6 belong to?\n",
    "2. What is the population of cluster around m2?\n",
    "3. What is updated value of m1 and m2?"
   ]
  },
  {
   "cell_type": "code",
   "execution_count": 1,
   "metadata": {},
   "outputs": [],
   "source": [
    "import pandas as pd\n",
    "import numpy as np\n",
    "from sklearn.cluster import KMeans\n",
    "import matplotlib.pyplot as plt"
   ]
  },
  {
   "cell_type": "code",
   "execution_count": 2,
   "metadata": {},
   "outputs": [],
   "source": [
    "data = {\n",
    "    'point': ['P1', 'P2', 'P3', 'P4', 'P5', 'P6', 'P7', 'P8'],\n",
    "    'x': [0.1, 0.15, 0.08, 0.16, 0.2, 0.25, 0.24, 0.3], \n",
    "    'y': [0.6, 0.71, 0.9, 0.85, 0.3, 0.5, 0.1, 0.2]\n",
    "} \n",
    "df = pd.DataFrame.from_dict(data) \n",
    "label = \"label\""
   ]
  },
  {
   "cell_type": "code",
   "execution_count": 3,
   "metadata": {},
   "outputs": [
    {
     "data": {
      "text/html": [
       "<div>\n",
       "<style scoped>\n",
       "    .dataframe tbody tr th:only-of-type {\n",
       "        vertical-align: middle;\n",
       "    }\n",
       "\n",
       "    .dataframe tbody tr th {\n",
       "        vertical-align: top;\n",
       "    }\n",
       "\n",
       "    .dataframe thead th {\n",
       "        text-align: right;\n",
       "    }\n",
       "</style>\n",
       "<table border=\"1\" class=\"dataframe\">\n",
       "  <thead>\n",
       "    <tr style=\"text-align: right;\">\n",
       "      <th></th>\n",
       "      <th>point</th>\n",
       "      <th>x</th>\n",
       "      <th>y</th>\n",
       "    </tr>\n",
       "  </thead>\n",
       "  <tbody>\n",
       "    <tr>\n",
       "      <th>0</th>\n",
       "      <td>P1</td>\n",
       "      <td>0.10</td>\n",
       "      <td>0.60</td>\n",
       "    </tr>\n",
       "    <tr>\n",
       "      <th>1</th>\n",
       "      <td>P2</td>\n",
       "      <td>0.15</td>\n",
       "      <td>0.71</td>\n",
       "    </tr>\n",
       "    <tr>\n",
       "      <th>2</th>\n",
       "      <td>P3</td>\n",
       "      <td>0.08</td>\n",
       "      <td>0.90</td>\n",
       "    </tr>\n",
       "    <tr>\n",
       "      <th>3</th>\n",
       "      <td>P4</td>\n",
       "      <td>0.16</td>\n",
       "      <td>0.85</td>\n",
       "    </tr>\n",
       "    <tr>\n",
       "      <th>4</th>\n",
       "      <td>P5</td>\n",
       "      <td>0.20</td>\n",
       "      <td>0.30</td>\n",
       "    </tr>\n",
       "  </tbody>\n",
       "</table>\n",
       "</div>"
      ],
      "text/plain": [
       "  point     x     y\n",
       "0    P1  0.10  0.60\n",
       "1    P2  0.15  0.71\n",
       "2    P3  0.08  0.90\n",
       "3    P4  0.16  0.85\n",
       "4    P5  0.20  0.30"
      ]
     },
     "execution_count": 3,
     "metadata": {},
     "output_type": "execute_result"
    }
   ],
   "source": [
    "df.head()"
   ]
  },
  {
   "cell_type": "code",
   "execution_count": 4,
   "metadata": {},
   "outputs": [
    {
     "data": {
      "text/html": [
       "<div>\n",
       "<style scoped>\n",
       "    .dataframe tbody tr th:only-of-type {\n",
       "        vertical-align: middle;\n",
       "    }\n",
       "\n",
       "    .dataframe tbody tr th {\n",
       "        vertical-align: top;\n",
       "    }\n",
       "\n",
       "    .dataframe thead th {\n",
       "        text-align: right;\n",
       "    }\n",
       "</style>\n",
       "<table border=\"1\" class=\"dataframe\">\n",
       "  <thead>\n",
       "    <tr style=\"text-align: right;\">\n",
       "      <th></th>\n",
       "      <th>x</th>\n",
       "      <th>y</th>\n",
       "    </tr>\n",
       "  </thead>\n",
       "  <tbody>\n",
       "    <tr>\n",
       "      <th>count</th>\n",
       "      <td>8.000000</td>\n",
       "      <td>8.000000</td>\n",
       "    </tr>\n",
       "    <tr>\n",
       "      <th>mean</th>\n",
       "      <td>0.185000</td>\n",
       "      <td>0.520000</td>\n",
       "    </tr>\n",
       "    <tr>\n",
       "      <th>std</th>\n",
       "      <td>0.076345</td>\n",
       "      <td>0.298424</td>\n",
       "    </tr>\n",
       "    <tr>\n",
       "      <th>min</th>\n",
       "      <td>0.080000</td>\n",
       "      <td>0.100000</td>\n",
       "    </tr>\n",
       "    <tr>\n",
       "      <th>25%</th>\n",
       "      <td>0.137500</td>\n",
       "      <td>0.275000</td>\n",
       "    </tr>\n",
       "    <tr>\n",
       "      <th>50%</th>\n",
       "      <td>0.180000</td>\n",
       "      <td>0.550000</td>\n",
       "    </tr>\n",
       "    <tr>\n",
       "      <th>75%</th>\n",
       "      <td>0.242500</td>\n",
       "      <td>0.745000</td>\n",
       "    </tr>\n",
       "    <tr>\n",
       "      <th>max</th>\n",
       "      <td>0.300000</td>\n",
       "      <td>0.900000</td>\n",
       "    </tr>\n",
       "  </tbody>\n",
       "</table>\n",
       "</div>"
      ],
      "text/plain": [
       "              x         y\n",
       "count  8.000000  8.000000\n",
       "mean   0.185000  0.520000\n",
       "std    0.076345  0.298424\n",
       "min    0.080000  0.100000\n",
       "25%    0.137500  0.275000\n",
       "50%    0.180000  0.550000\n",
       "75%    0.242500  0.745000\n",
       "max    0.300000  0.900000"
      ]
     },
     "execution_count": 4,
     "metadata": {},
     "output_type": "execute_result"
    }
   ],
   "source": [
    "df.describe()"
   ]
  },
  {
   "cell_type": "code",
   "execution_count": 6,
   "metadata": {},
   "outputs": [],
   "source": [
    "# Function to calculate euclidean distance between two points\n",
    "def euclidean_distance(point_a, point_b):\n",
    "    distance = 0\n",
    "    for i in range(len(point_a)):\n",
    "        distance = distance + (point_a[i]-point_b[i])**2\n",
    "    return distance**0.5"
   ]
  },
  {
   "cell_type": "code",
   "execution_count": 7,
   "metadata": {},
   "outputs": [],
   "source": [
    "# Funtion to implement K Means algorithm\n",
    "def k_means(data, n_clusters, centroids=[]):\n",
    "    '''\n",
    "    params: {data, n_clusters, centroids}\n",
    "    - data : { Input data }\n",
    "    - type : list\n",
    "    \n",
    "    - n_clusters : {number of clusters}\n",
    "    - type : int\n",
    "    \n",
    "    - centroids: {initial centroid points}\n",
    "    - type : list\n",
    "    \n",
    "    - returns: {clusters, new_centroids, inertia}\n",
    "    - clusters: {centroid assignment for each point in the dataset}\n",
    "    - type : list\n",
    "    \n",
    "    - new_centroids: {final centroid points}\n",
    "    - type : list  \n",
    "    \n",
    "    - inertia: {inertial of new centroids}\n",
    "    - type : float\n",
    "    \n",
    "    '''\n",
    "    # Initializing centroids randomly of empty array is passsed\n",
    "    if len(centroids) == 0: centroids =  random.sample(data, n_clusters) \n",
    "    while True:\n",
    "        inertia = 0\n",
    "        clusters = {f\"cluster_{k}\": [] for k in range(n_clusters)}\n",
    "        # Calculating distance between centroids and each point in the dataset \n",
    "        for point in data:\n",
    "            distance = []\n",
    "            for centroid in centroids:\n",
    "                distance.append(euclidean_distance(point, centroid))\n",
    "            # Evaluating the nearest centroid for each data point\n",
    "            min_distance = distance.index(min(distance))\n",
    "            clusters[f\"cluster_{min_distance}\"].append(point)\n",
    "            inertia += min(distance)**2\n",
    "        new_centroids = []\n",
    "        # Calculating coordinates of new centroids\n",
    "        for i in clusters:\n",
    "            new_centroids.append([float(sum(col))/len(col) for col in zip(*clusters[i])])\n",
    "        if  sorted(centroids) == sorted(new_centroids):\n",
    "            return clusters, centroids, inertia\n",
    "        else: centroids = new_centroids"
   ]
  },
  {
   "cell_type": "code",
   "execution_count": 11,
   "metadata": {},
   "outputs": [],
   "source": [
    "# Funtion to plot clusters \n",
    "def plot_clusters(centroids, clusters):\n",
    "    '''\n",
    "    - pararms: {clusters, centroids}\n",
    "    - clusters: {centroid assignment for each point in the dataset}\n",
    "    - type : list\n",
    "    \n",
    "    - centroids: {initial centroid points}\n",
    "    - type : list  \n",
    "    '''\n",
    "    # Plotting points in each cluster\n",
    "    for i in clusters:\n",
    "        cluster = np.array(clusters[i])\n",
    "        x, y = cluster.T\n",
    "        plt.scatter(x, y, label=i)\n",
    "    # Plotting centroids for each cluster\n",
    "    for centroid in centroids:\n",
    "        x, y = np.array(centroid).T\n",
    "        plt.scatter(x, y, s=200, c='yellow')\n",
    "    plt.rcParams.update({'figure.figsize':(8,8), 'figure.dpi':100})\n",
    "    plt.title('Clusters')\n",
    "    plt.xlabel('x-coordinate')\n",
    "    plt.ylabel('y-coordinate')\n",
    "    plt.legend()\n",
    "    plt.show()"
   ]
  },
  {
   "cell_type": "code",
   "execution_count": 12,
   "metadata": {},
   "outputs": [
    {
     "name": "stdout",
     "output_type": "stream",
     "text": [
      "Enter number of clusters: 2\n"
     ]
    },
    {
     "data": {
      "image/png": "[encoded data removed]",
      "text/plain": [
       "<Figure size 432x288 with 1 Axes>"
      ]
     },
     "metadata": {
      "needs_background": "light"
     },
     "output_type": "display_data"
    }
   ],
   "source": [
    "df_list = df[['x','y']].values.tolist()\n",
    "n_clusters = int(input(\"Enter number of clusters: \"))\n",
    "centroids = [[0.1, 0.6], [0.3, 0.2]]\n",
    "clusters, centroids, inertia = k_means(df_list, n_clusters, centroids)\n",
    "plot_clusters(centroids, clusters)"
   ]
  },
  {
   "cell_type": "code",
   "execution_count": null,
   "metadata": {},
   "outputs": [],
   "source": []
  }
 ],
 "metadata": {
  "kernelspec": {
   "display_name": "Python 3",
   "language": "python",
   "name": "python3"
  },
  "language_info": {
   "codemirror_mode": {
    "name": "ipython",
    "version": 3
   },
   "file_extension": ".py",
   "mimetype": "text/x-python",
   "name": "python",
   "nbconvert_exporter": "python",
   "pygments_lexer": "ipython3",
   "version": "3.8.5"
  }
 },
 "nbformat": 4,
 "nbformat_minor": 4
}

{
 "cells": [
  {
   "cell_type": "code",
   "execution_count": 1,
   "metadata": {},
   "outputs": [],
   "source": [
    "import numpy as np\n",
    "import pandas as pd\n",
    "import matplotlib.pyplot as plt\n",
    "from sklearn.neighbors import KNeighborsClassifier"
   ]
  },
  {
   "cell_type": "code",
   "execution_count": 3,
   "metadata": {},
   "outputs": [],
   "source": [
    "data = {\n",
    "    'x': [2, 4, 4, 4, 6, 6], \n",
    "    'y': [4, 2, 4, 6, 2, 4],\n",
    "    'label':[\"orange\", \"orange\", \"blue\", \"orange\", \"blue\", \"orange\"]\n",
    "} \n",
    "df = pd.DataFrame.from_dict(data)\n",
    "label = 'label'"
   ]
  },
  {
   "cell_type": "code",
   "execution_count": 5,
   "metadata": {},
   "outputs": [
    {
     "data": {
      "text/html": [
       "<div>\n",
       "<style scoped>\n",
       "    .dataframe tbody tr th:only-of-type {\n",
       "        vertical-align: middle;\n",
       "    }\n",
       "\n",
       "    .dataframe tbody tr th {\n",
       "        vertical-align: top;\n",
       "    }\n",
       "\n",
       "    .dataframe thead th {\n",
       "        text-align: right;\n",
       "    }\n",
       "</style>\n",
       "<table border=\"1\" class=\"dataframe\">\n",
       "  <thead>\n",
       "    <tr style=\"text-align: right;\">\n",
       "      <th></th>\n",
       "      <th>count</th>\n",
       "      <th>mean</th>\n",
       "      <th>std</th>\n",
       "      <th>min</th>\n",
       "      <th>25%</th>\n",
       "      <th>50%</th>\n",
       "      <th>75%</th>\n",
       "      <th>max</th>\n",
       "    </tr>\n",
       "  </thead>\n",
       "  <tbody>\n",
       "    <tr>\n",
       "      <th>x</th>\n",
       "      <td>6.0</td>\n",
       "      <td>4.333333</td>\n",
       "      <td>1.505545</td>\n",
       "      <td>2.0</td>\n",
       "      <td>4.0</td>\n",
       "      <td>4.0</td>\n",
       "      <td>5.5</td>\n",
       "      <td>6.0</td>\n",
       "    </tr>\n",
       "    <tr>\n",
       "      <th>y</th>\n",
       "      <td>6.0</td>\n",
       "      <td>3.666667</td>\n",
       "      <td>1.505545</td>\n",
       "      <td>2.0</td>\n",
       "      <td>2.5</td>\n",
       "      <td>4.0</td>\n",
       "      <td>4.0</td>\n",
       "      <td>6.0</td>\n",
       "    </tr>\n",
       "  </tbody>\n",
       "</table>\n",
       "</div>"
      ],
      "text/plain": [
       "   count      mean       std  min  25%  50%  75%  max\n",
       "x    6.0  4.333333  1.505545  2.0  4.0  4.0  5.5  6.0\n",
       "y    6.0  3.666667  1.505545  2.0  2.5  4.0  4.0  6.0"
      ]
     },
     "execution_count": 5,
     "metadata": {},
     "output_type": "execute_result"
    }
   ],
   "source": [
    "df.describe().T"
   ]
  },
  {
   "cell_type": "code",
   "execution_count": 6,
   "metadata": {},
   "outputs": [],
   "source": [
    "def euclidean_distance(point_a, point_b):\n",
    "    distance = 0\n",
    "    for i in range(len(point_a)):\n",
    "        distance = distance + (point_a[i]-point_b[i])**2\n",
    "    return distance**0.5"
   ]
  },
  {
   "cell_type": "code",
   "execution_count": 7,
   "metadata": {},
   "outputs": [],
   "source": [
    "def manhattan_distance(point_a, point_b):\n",
    "    distance = 0\n",
    "    for i in range(len(point_a)):\n",
    "        distance = distance + abs(point_a - point_b)\n",
    "    return distance"
   ]
  },
  {
   "cell_type": "code",
   "execution_count": 8,
   "metadata": {},
   "outputs": [],
   "source": [
    "# Method to predict class based on the weighted frequency of nearest neighbors\n",
    "def weighted_prediction(nearest_neighbors):\n",
    "    '''\n",
    "    params: {nearest_neighbors}\n",
    "    - nearest_neighbors : { distance and class of k points from the dataset, nearest to input value }\n",
    "    - type : list - [(distance, class),(distance, class), ...]\n",
    "    \n",
    "    - returns: {prediction}\n",
    "    - prediction : { Output label i.e blue or orange }\n",
    "    - type: string\n",
    "    '''\n",
    "    label_frequency = {}\n",
    "    # Calculate weight for each label\n",
    "    for distance, label in nearest_neighbors:\n",
    "        if int(distance) == 0:\n",
    "            label_frequency[label] = sys.maxsize\n",
    "            break\n",
    "        if label in label_frequency:\n",
    "            label_frequency[label] += 1/distance\n",
    "        else: label_frequency[label] = 1/distance\n",
    "    # Return label having maximum weight\n",
    "    return max(label_frequency, key=label_frequency.get) "
   ]
  },
  {
   "cell_type": "code",
   "execution_count": 9,
   "metadata": {},
   "outputs": [],
   "source": [
    "# Method to implement k nearest neighbors algorithm\n",
    "def KNearestNeighbors(X, y, k, input_val, weight, metric):\n",
    "    '''\n",
    "    params: {X, y, k, input_val, weight, metric}\n",
    "    - X : { Input data }\n",
    "    - type : list \n",
    "    \n",
    "    - y : {Ouput label}\n",
    "    - type : list\n",
    "    \n",
    "    - k : { number of neighbors }\n",
    "    - type : int\n",
    "    \n",
    "    - input_val : { value for which output label is to be determined }\n",
    "    - type : list - [x-coordinate, y-coordinate]\n",
    "    \n",
    "    - weight : { type of k-NN }\n",
    "    - type : string\n",
    "    \n",
    "    - metric : { method for calculating distance }\n",
    "    - type : string\n",
    "    \n",
    "    - returns: {prediction}\n",
    "    - prediction : { Output label i.e blue or orange }\n",
    "    - type: string\n",
    "    '''\n",
    "    # Calculate distance depending on the metrics\n",
    "    distances = []\n",
    "    if metric == 'manhattan':\n",
    "        for i in range(len(X)):\n",
    "            distances.append((manhattan_distance(X[i], input_val),y[i]))\n",
    "    else:\n",
    "        for i in range(len(X)):\n",
    "            distances.append((euclidean_distance(X[i], input_val),y[i]))\n",
    "                \n",
    "    # Sort points according to the calculated distance \n",
    "    distances.sort(key=lambda distance: distance[0])\n",
    "    if weight == 'distance': # Perform prediction using distance as weight\n",
    "        nearest_neighbors = distances[:k].copy()\n",
    "        prediction = weighted_prediction(nearest_neighbors)\n",
    "    else: # Perform prediction based on frequency of ouput label in nearest neighbors(uniform)\n",
    "        nearest_neighbors = distances[:k].copy()\n",
    "        if int(distances[0][0]) == 0:\n",
    "            prediction = distances[0][1]\n",
    "            return prediction\n",
    "        neighbor_classes = [label[1] for label in nearest_neighbors]\n",
    "        prediction = max(set(neighbor_classes), key=neighbor_classes.count)\n",
    "    return prediction"
   ]
  },
  {
   "cell_type": "code",
   "execution_count": 11,
   "metadata": {},
   "outputs": [
    {
     "name": "stdout",
     "output_type": "stream",
     "text": [
      "Predicted value:  orange\n"
     ]
    }
   ],
   "source": [
    "k = 3\n",
    "metric = 'euclidean'\n",
    "weight = 'uniform'\n",
    "input_val = [6,6]\n",
    "X=None\n",
    "y=None\n",
    "X = df.drop(columns=[label]).values.tolist()\n",
    "y = df[label].values.tolist()\n",
    "print(\"Predicted value: \",KNearestNeighbors(X, y, k, input_val, weight, metric))"
   ]
  },
  {
   "cell_type": "markdown",
   "metadata": {},
   "source": [
    "## Sklearn Implementation"
   ]
  },
  {
   "cell_type": "code",
   "execution_count": 12,
   "metadata": {},
   "outputs": [],
   "source": [
    "X_num = df.drop(columns=[label]).to_numpy()\n",
    "y_num = df[label].to_numpy()"
   ]
  },
  {
   "cell_type": "code",
   "execution_count": 16,
   "metadata": {},
   "outputs": [
    {
     "name": "stdout",
     "output_type": "stream",
     "text": [
      "Predicted value:  orange\n"
     ]
    }
   ],
   "source": [
    "knn_classifier = KNeighborsClassifier(n_neighbors=3, weights='distance',p=2) # p=1 for manhattan and p=2 for euclidean\n",
    "knn_classifier.fit(X_num, y_num)\n",
    "print(\"Predicted value: \",knn_classifier.predict(np.array([[2.0, 4.0]]))[0])"
   ]
  },
  {
   "cell_type": "code",
   "execution_count": null,
   "metadata": {},
   "outputs": [],
   "source": []
  }
 ],
 "metadata": {
  "kernelspec": {
   "display_name": "Python 3",
   "language": "python",
   "name": "python3"
  },
  "language_info": {
   "codemirror_mode": {
    "name": "ipython",
    "version": 3
   },
   "file_extension": ".py",
   "mimetype": "text/x-python",
   "name": "python",
   "nbconvert_exporter": "python",
   "pygments_lexer": "ipython3",
   "version": "3.8.5"
  }
 },
 "nbformat": 4,
 "nbformat_minor": 4
}

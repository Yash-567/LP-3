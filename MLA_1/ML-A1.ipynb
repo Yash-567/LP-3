{
 "cells": [
  {
   "cell_type": "markdown",
   "metadata": {
    "id": "QLdKiL_MMoJC"
   },
   "source": [
    "# To find the best fit line for given data using Linear Regression"
   ]
  },
  {
   "cell_type": "code",
   "execution_count": 1,
   "metadata": {
    "executionInfo": {
     "elapsed": 1958,
     "status": "ok",
     "timestamp": 1642576674469,
     "user": {
      "displayName": "tanusri bhowmick",
      "photoUrl": "https://lh3.googleusercontent.com/a-/AOh14GjxofzsYJHIDXYvHWSvMuOrmbS9XrJwjrlfF_MWFr0=s64",
      "userId": "03842776448405162709"
     },
     "user_tz": -330
    },
    "id": "YaCGgPTCMoJS"
   },
   "outputs": [],
   "source": [
    "# Importing libraries\n",
    "import pandas as pd\n",
    "import numpy as np\n",
    "import matplotlib.pyplot as plt\n",
    "import seaborn as sns\n",
    "from sklearn.linear_model import LinearRegression"
   ]
  },
  {
   "cell_type": "code",
   "execution_count": 2,
   "metadata": {
    "executionInfo": {
     "elapsed": 522,
     "status": "ok",
     "timestamp": 1642576700175,
     "user": {
      "displayName": "tanusri bhowmick",
      "photoUrl": "https://lh3.googleusercontent.com/a-/AOh14GjxofzsYJHIDXYvHWSvMuOrmbS9XrJwjrlfF_MWFr0=s64",
      "userId": "03842776448405162709"
     },
     "user_tz": -330
    },
    "id": "mc0T7j0DMoJY"
   },
   "outputs": [],
   "source": [
    "# Function to plot the given data\n",
    "def plotData(X, y, x_label='driving_hours', y_label='risk_score'):\n",
    "    plt.figure(figsize=(6,6))\n",
    "    plt.xlabel(x_label)\n",
    "    plt.ylabel(y_label)\n",
    "    plt.scatter(X,y)\n",
    "    return plt"
   ]
  },
  {
   "cell_type": "code",
   "execution_count": 3,
   "metadata": {
    "executionInfo": {
     "elapsed": 20,
     "status": "ok",
     "timestamp": 1642576705018,
     "user": {
      "displayName": "tanusri bhowmick",
      "photoUrl": "https://lh3.googleusercontent.com/a-/AOh14GjxofzsYJHIDXYvHWSvMuOrmbS9XrJwjrlfF_MWFr0=s64",
      "userId": "03842776448405162709"
     },
     "user_tz": -330
    },
    "id": "9qHnzDAfMoJb"
   },
   "outputs": [],
   "source": [
    "# Function to plot the regression line along with the given data\n",
    "def plotRegressionLine(X, y, y_pred, x_label='driving_hours', y_label='risk_score'):\n",
    "    plt = plotData(X, y, x_label, y_label)\n",
    "    plt.plot(X, y_pred, color='red', linewidth=3)\n",
    "    plt.show()"
   ]
  },
  {
   "cell_type": "code",
   "execution_count": 4,
   "metadata": {
    "executionInfo": {
     "elapsed": 19,
     "status": "ok",
     "timestamp": 1642576707445,
     "user": {
      "displayName": "tanusri bhowmick",
      "photoUrl": "https://lh3.googleusercontent.com/a-/AOh14GjxofzsYJHIDXYvHWSvMuOrmbS9XrJwjrlfF_MWFr0=s64",
      "userId": "03842776448405162709"
     },
     "user_tz": -330
    },
    "id": "3pjrLkhLMoJd"
   },
   "outputs": [],
   "source": [
    "# Function to calculate R2 score\n",
    "def calcR2Score(X, y, y_pred):\n",
    "    y_mean = y.mean()\n",
    "    SStot = sum((y-y_mean)**2)\n",
    "    SSres = sum((y-y_pred)**2)\n",
    "    r2_score = 1-(SSres/SStot)\n",
    "    return r2_score"
   ]
  },
  {
   "cell_type": "code",
   "execution_count": 5,
   "metadata": {
    "executionInfo": {
     "elapsed": 592,
     "status": "ok",
     "timestamp": 1642576710342,
     "user": {
      "displayName": "tanusri bhowmick",
      "photoUrl": "https://lh3.googleusercontent.com/a-/AOh14GjxofzsYJHIDXYvHWSvMuOrmbS9XrJwjrlfF_MWFr0=s64",
      "userId": "03842776448405162709"
     },
     "user_tz": -330
    },
    "id": "4YTX_KO4MoJf"
   },
   "outputs": [],
   "source": [
    "# Function to calculate Pearson's Correlation Coefficient\n",
    "def correlationCoef(X,y): \n",
    "    X_mean = X.mean()\n",
    "    y_mean = y.mean()\n",
    "    num = sum((X-X_mean)*(y-y_mean))\n",
    "    den = (sum((X-X_mean)**2)*sum((y-y_mean)**2))**0.5\n",
    "    coef = num/den\n",
    "    return coef"
   ]
  },
  {
   "cell_type": "code",
   "execution_count": 6,
   "metadata": {
    "executionInfo": {
     "elapsed": 11,
     "status": "ok",
     "timestamp": 1642576712461,
     "user": {
      "displayName": "tanusri bhowmick",
      "photoUrl": "https://lh3.googleusercontent.com/a-/AOh14GjxofzsYJHIDXYvHWSvMuOrmbS9XrJwjrlfF_MWFr0=s64",
      "userId": "03842776448405162709"
     },
     "user_tz": -330
    },
    "id": "T-KhQZGVMoJh"
   },
   "outputs": [],
   "source": [
    "data = {\n",
    "    'driving_hours': [10, 9, 2, 15, 10, 16, 11, 16], \n",
    "    'risk_score':[95, 80, 10, 50, 45, 98, 38, 93]\n",
    "} \n",
    "df = pd.DataFrame.from_dict(data) "
   ]
  },
  {
   "cell_type": "code",
   "execution_count": 7,
   "metadata": {
    "colab": {
     "base_uri": "https://localhost:8080/",
     "height": 206
    },
    "executionInfo": {
     "elapsed": 530,
     "status": "ok",
     "timestamp": 1642576722616,
     "user": {
      "displayName": "tanusri bhowmick",
      "photoUrl": "https://lh3.googleusercontent.com/a-/AOh14GjxofzsYJHIDXYvHWSvMuOrmbS9XrJwjrlfF_MWFr0=s64",
      "userId": "03842776448405162709"
     },
     "user_tz": -330
    },
    "id": "2y1EcY2FMoJk",
    "outputId": "580aa494-39e0-4ff0-f3ea-5505c8922439"
   },
   "outputs": [
    {
     "data": {
      "text/html": [
       "<div>\n",
       "<style scoped>\n",
       "    .dataframe tbody tr th:only-of-type {\n",
       "        vertical-align: middle;\n",
       "    }\n",
       "\n",
       "    .dataframe tbody tr th {\n",
       "        vertical-align: top;\n",
       "    }\n",
       "\n",
       "    .dataframe thead th {\n",
       "        text-align: right;\n",
       "    }\n",
       "</style>\n",
       "<table border=\"1\" class=\"dataframe\">\n",
       "  <thead>\n",
       "    <tr style=\"text-align: right;\">\n",
       "      <th></th>\n",
       "      <th>driving_hours</th>\n",
       "      <th>risk_score</th>\n",
       "    </tr>\n",
       "  </thead>\n",
       "  <tbody>\n",
       "    <tr>\n",
       "      <th>0</th>\n",
       "      <td>10</td>\n",
       "      <td>95</td>\n",
       "    </tr>\n",
       "    <tr>\n",
       "      <th>1</th>\n",
       "      <td>9</td>\n",
       "      <td>80</td>\n",
       "    </tr>\n",
       "    <tr>\n",
       "      <th>2</th>\n",
       "      <td>2</td>\n",
       "      <td>10</td>\n",
       "    </tr>\n",
       "    <tr>\n",
       "      <th>3</th>\n",
       "      <td>15</td>\n",
       "      <td>50</td>\n",
       "    </tr>\n",
       "    <tr>\n",
       "      <th>4</th>\n",
       "      <td>10</td>\n",
       "      <td>45</td>\n",
       "    </tr>\n",
       "  </tbody>\n",
       "</table>\n",
       "</div>"
      ],
      "text/plain": [
       "   driving_hours  risk_score\n",
       "0             10          95\n",
       "1              9          80\n",
       "2              2          10\n",
       "3             15          50\n",
       "4             10          45"
      ]
     },
     "execution_count": 7,
     "metadata": {},
     "output_type": "execute_result"
    }
   ],
   "source": [
    "df.head()"
   ]
  },
  {
   "cell_type": "code",
   "execution_count": 8,
   "metadata": {
    "executionInfo": {
     "elapsed": 469,
     "status": "ok",
     "timestamp": 1642576757623,
     "user": {
      "displayName": "tanusri bhowmick",
      "photoUrl": "https://lh3.googleusercontent.com/a-/AOh14GjxofzsYJHIDXYvHWSvMuOrmbS9XrJwjrlfF_MWFr0=s64",
      "userId": "03842776448405162709"
     },
     "user_tz": -330
    },
    "id": "MegrmJ9gMoJ4"
   },
   "outputs": [],
   "source": [
    "X = np.array(df['driving_hours'])\n",
    "y = np.array(df['risk_score'])"
   ]
  },
  {
   "cell_type": "code",
   "execution_count": 9,
   "metadata": {
    "colab": {
     "base_uri": "https://localhost:8080/"
    },
    "executionInfo": {
     "elapsed": 7,
     "status": "ok",
     "timestamp": 1642576759247,
     "user": {
      "displayName": "tanusri bhowmick",
      "photoUrl": "https://lh3.googleusercontent.com/a-/AOh14GjxofzsYJHIDXYvHWSvMuOrmbS9XrJwjrlfF_MWFr0=s64",
      "userId": "03842776448405162709"
     },
     "user_tz": -330
    },
    "id": "jdgMdKBLMoJ7",
    "outputId": "8fa42723-0ccc-4877-c8ad-0e490bbc6d4f"
   },
   "outputs": [
    {
     "data": {
      "text/plain": [
       "0.6611314653759117"
      ]
     },
     "execution_count": 9,
     "metadata": {},
     "output_type": "execute_result"
    }
   ],
   "source": [
    "correlationCoef(X,y)"
   ]
  },
  {
   "cell_type": "code",
   "execution_count": 10,
   "metadata": {
    "colab": {
     "base_uri": "https://localhost:8080/",
     "height": 407
    },
    "executionInfo": {
     "elapsed": 542,
     "status": "ok",
     "timestamp": 1642576763703,
     "user": {
      "displayName": "tanusri bhowmick",
      "photoUrl": "https://lh3.googleusercontent.com/a-/AOh14GjxofzsYJHIDXYvHWSvMuOrmbS9XrJwjrlfF_MWFr0=s64",
      "userId": "03842776448405162709"
     },
     "user_tz": -330
    },
    "id": "Hfrd9EECMoJ9",
    "outputId": "1e223b5b-f8f4-407b-da07-4b8d5b0081a3"
   },
   "outputs": [
    {
     "data": {
      "text/plain": [
       "<module 'matplotlib.pyplot' from 'D:\\\\Program_Files\\\\miniconda3\\\\lib\\\\site-packages\\\\matplotlib\\\\pyplot.py'>"
      ]
     },
     "execution_count": 10,
     "metadata": {},
     "output_type": "execute_result"
    },
    {
     "data": {
      "image/png": "[encoded data removed]",
      "text/plain": [
       "<Figure size 432x432 with 1 Axes>"
      ]
     },
     "metadata": {
      "needs_background": "light"
     },
     "output_type": "display_data"
    }
   ],
   "source": [
    "plotData(X, y)"
   ]
  },
  {
   "cell_type": "code",
   "execution_count": 11,
   "metadata": {
    "executionInfo": {
     "elapsed": 480,
     "status": "ok",
     "timestamp": 1642576768616,
     "user": {
      "displayName": "tanusri bhowmick",
      "photoUrl": "https://lh3.googleusercontent.com/a-/AOh14GjxofzsYJHIDXYvHWSvMuOrmbS9XrJwjrlfF_MWFr0=s64",
      "userId": "03842776448405162709"
     },
     "user_tz": -330
    },
    "id": "YWL6dGnsMoJ_"
   },
   "outputs": [],
   "source": [
    "# Function to calculate coefficients of the line\n",
    "def calcCoefficient(X,y):\n",
    "    X_mean = X.mean()\n",
    "    y_mean = y.mean()\n",
    "    coef = (sum((X-X_mean)*(y-y_mean))/sum((X-X_mean)**2))\n",
    "    intercept = y_mean - coef*X_mean\n",
    "    return coef, intercept"
   ]
  },
  {
   "cell_type": "code",
   "execution_count": 12,
   "metadata": {
    "colab": {
     "base_uri": "https://localhost:8080/",
     "height": 462
    },
    "executionInfo": {
     "elapsed": 535,
     "status": "ok",
     "timestamp": 1642576780937,
     "user": {
      "displayName": "tanusri bhowmick",
      "photoUrl": "https://lh3.googleusercontent.com/a-/AOh14GjxofzsYJHIDXYvHWSvMuOrmbS9XrJwjrlfF_MWFr0=s64",
      "userId": "03842776448405162709"
     },
     "user_tz": -330
    },
    "id": "-MCV-99XMoKC",
    "outputId": "dd6e35aa-83fc-4bc7-d7a6-081db50bfa3e"
   },
   "outputs": [
    {
     "name": "stdout",
     "output_type": "stream",
     "text": [
      "Coefficient:  4.58789860997547\n",
      "Intercept:  12.584627964022893\n",
      "R2 score:  0.43709481451010035\n",
      "Equation: Y = 4.58789860997547*X+12.584627964022893\n"
     ]
    },
    {
     "data": {
      "image/png": "[encoded data removed]",
      "text/plain": [
       "<Figure size 432x432 with 1 Axes>"
      ]
     },
     "metadata": {
      "needs_background": "light"
     },
     "output_type": "display_data"
    }
   ],
   "source": [
    "W,W0 = calcCoefficient(X,y)\n",
    "y_pred = W*X + W0\n",
    "print(\"Coefficient: \",W)\n",
    "print(\"Intercept: \",W0)\n",
    "print(\"R2 score: \",calcR2Score(X, y, y_pred))\n",
    "print(f\"Equation: Y = {W}*X+{W0}\")\n",
    "plotRegressionLine(X, y, y_pred)"
   ]
  },
  {
   "cell_type": "markdown",
   "metadata": {
    "id": "TT-6GPStMoKD"
   },
   "source": [
    "## Sklearn implementation\n",
    "Using Sklearn's LinearRegression api for evaluating the given dataset"
   ]
  },
  {
   "cell_type": "code",
   "execution_count": 13,
   "metadata": {
    "executionInfo": {
     "elapsed": 6,
     "status": "ok",
     "timestamp": 1642576784311,
     "user": {
      "displayName": "tanusri bhowmick",
      "photoUrl": "https://lh3.googleusercontent.com/a-/AOh14GjxofzsYJHIDXYvHWSvMuOrmbS9XrJwjrlfF_MWFr0=s64",
      "userId": "03842776448405162709"
     },
     "user_tz": -330
    },
    "id": "iSvP1iGSMoKF"
   },
   "outputs": [],
   "source": [
    "X = np.array(X).reshape(-1,1)"
   ]
  },
  {
   "cell_type": "code",
   "execution_count": 14,
   "metadata": {
    "colab": {
     "base_uri": "https://localhost:8080/",
     "height": 462
    },
    "executionInfo": {
     "elapsed": 15,
     "status": "ok",
     "timestamp": 1642576787081,
     "user": {
      "displayName": "tanusri bhowmick",
      "photoUrl": "https://lh3.googleusercontent.com/a-/AOh14GjxofzsYJHIDXYvHWSvMuOrmbS9XrJwjrlfF_MWFr0=s64",
      "userId": "03842776448405162709"
     },
     "user_tz": -330
    },
    "id": "plVD4jbQMoKG",
    "outputId": "05a26d91-2159-41bb-a645-c23e31675729"
   },
   "outputs": [
    {
     "name": "stdout",
     "output_type": "stream",
     "text": [
      "Coefficient:  4.587898609975469\n",
      "Intercept:  12.584627964022907\n",
      "R2 score:  0.43709481451010035\n",
      "Equation: Y = 4.587898609975469*X+12.584627964022907\n"
     ]
    },
    {
     "data": {
      "image/png": "[encoded data removed]",
      "text/plain": [
       "<Figure size 432x432 with 1 Axes>"
      ]
     },
     "metadata": {
      "needs_background": "light"
     },
     "output_type": "display_data"
    }
   ],
   "source": [
    "model = LinearRegression()\n",
    "model.fit(X, y)\n",
    "y_pred = model.predict(X)\n",
    "print(\"Coefficient: \",model.coef_[0])\n",
    "print(\"Intercept: \",model.intercept_)\n",
    "print(\"R2 score: \",calcR2Score(X, y, y_pred))\n",
    "print(f\"Equation: Y = {model.coef_[0]}*X+{model.intercept_}\")\n",
    "plotRegressionLine(X, y, y_pred)"
   ]
  },
  {
   "cell_type": "code",
   "execution_count": null,
   "metadata": {
    "id": "Uf4jaOfXMoKJ"
   },
   "outputs": [],
   "source": []
  }
 ],
 "metadata": {
  "colab": {
   "name": "ML-A1.ipynb",
   "provenance": []
  },
  "kernelspec": {
   "display_name": "Python 3",
   "language": "python",
   "name": "python3"
  },
  "language_info": {
   "codemirror_mode": {
    "name": "ipython",
    "version": 3
   },
   "file_extension": ".py",
   "mimetype": "text/x-python",
   "name": "python",
   "nbconvert_exporter": "python",
   "pygments_lexer": "ipython3",
   "version": "3.8.5"
  }
 },
 "nbformat": 4,
 "nbformat_minor": 1
}

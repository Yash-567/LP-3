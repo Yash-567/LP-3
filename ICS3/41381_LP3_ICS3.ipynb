{
 "cells": [
  {
   "cell_type": "code",
   "execution_count": 3,
   "metadata": {
    "id": "Q4hP-dMgbnLo"
   },
   "outputs": [],
   "source": [
    "'''\n",
    "Public Key is (e,n)\n",
    "Private Key is (d,n)\n",
    "'''\n",
    "def generate_keys():\n",
    "\n",
    "  from random import randint\n",
    "  from math import gcd\n",
    "  from sympy import mod_inverse\n",
    "\n",
    "  # Generate Two unequal Large Primes of comparable size\n",
    "  p, q = 877, 751\n",
    "  #p, q = 6971, 6299\n",
    "\n",
    "  # For large p and q, n will take centuries to factorize\n",
    "  n = p*q\n",
    "\n",
    "  # phi function\n",
    "  fi_n = (p-1)*(q-1)\n",
    "  \n",
    "  # e and fi_n are relatively prime if their gcd is 1\n",
    "  while True:\n",
    "    e = randint(1, fi_n)\n",
    "    if gcd(fi_n, e) == 1:\n",
    "      break\n",
    "  \n",
    "  # inverse modulo exists iff e and fi_n are relatively prime\n",
    "  # Modular Inverse\n",
    "  d = mod_inverse(e, fi_n)\n",
    "\n",
    "  return (e,n), (d,n)\n",
    "\n",
    "\n",
    "public_key, private_key = generate_keys()"
   ]
  },
  {
   "cell_type": "code",
   "execution_count": 4,
   "metadata": {
    "colab": {
     "base_uri": "https://localhost:8080/"
    },
    "id": "v1nZV6w5bp0R",
    "outputId": "e295f6cc-1b87-432b-b31c-15e80d4f2c09"
   },
   "outputs": [
    {
     "data": {
      "text/plain": [
       "167340"
      ]
     },
     "execution_count": 4,
     "metadata": {},
     "output_type": "execute_result"
    }
   ],
   "source": [
    "def encryption(m, public_key):\n",
    "  e, n = public_key\n",
    "  c = m**e % n\n",
    "  return c\n",
    "\n",
    "c = encryption(ord('A'), public_key)\n",
    "c"
   ]
  },
  {
   "cell_type": "code",
   "execution_count": 5,
   "metadata": {
    "colab": {
     "base_uri": "https://localhost:8080/",
     "height": 35
    },
    "id": "6tk9tC2OchQO",
    "outputId": "80be7eba-417b-4ed8-eae4-97b62f44ef8e"
   },
   "outputs": [
    {
     "data": {
      "text/plain": [
       "'A'"
      ]
     },
     "execution_count": 5,
     "metadata": {},
     "output_type": "execute_result"
    }
   ],
   "source": [
    "def decryption(c, private_key):\n",
    "  d, n = private_key\n",
    "  p = c**d % n\n",
    "  return p\n",
    "\n",
    "p = decryption(c, private_key)\n",
    "chr(p)\n"
   ]
  },
  {
   "cell_type": "code",
   "execution_count": 6,
   "metadata": {
    "colab": {
     "base_uri": "https://localhost:8080/",
     "height": 35
    },
    "id": "YDTduhWDcj5w",
    "outputId": "b0d26a97-baad-4f0c-abb7-d4eb37f280bf"
   },
   "outputs": [
    {
     "data": {
      "text/plain": [
       "'\\U00050abf\\U00076cf0\\U00076cf0\\U000943d1'"
      ]
     },
     "execution_count": 6,
     "metadata": {},
     "output_type": "execute_result"
    }
   ],
   "source": [
    "def encrypt_text(plain_text, public_key):\n",
    "  cipher_text = ''\n",
    "  for character in plain_text:\n",
    "    cipher_text += chr(encryption(ord(character), public_key))\n",
    "  return cipher_text\n",
    "\n",
    "cipher_text = encrypt_text('Cool', public_key)\n",
    "cipher_text"
   ]
  },
  {
   "cell_type": "code",
   "execution_count": 7,
   "metadata": {
    "colab": {
     "base_uri": "https://localhost:8080/",
     "height": 35
    },
    "id": "vRF5vMIGcmCo",
    "outputId": "f28021ce-776c-41a1-b422-7ef0d13cc9c4"
   },
   "outputs": [
    {
     "data": {
      "text/plain": [
       "'Cool'"
      ]
     },
     "execution_count": 7,
     "metadata": {},
     "output_type": "execute_result"
    }
   ],
   "source": [
    "def decrypt_text(cipher_text, private_key):\n",
    "  decrypted_text = ''\n",
    "  for character in cipher_text:\n",
    "    decrypted_text += chr(encryption(ord(character), private_key))\n",
    "  return decrypted_text\n",
    "\n",
    "decrypted_text = decrypt_text(cipher_text, private_key)\n",
    "decrypted_text"
   ]
  },
  {
   "cell_type": "code",
   "execution_count": null,
   "metadata": {
    "id": "KeXEPZZccqrW"
   },
   "outputs": [],
   "source": []
  }
 ],
 "metadata": {
  "colab": {
   "name": "41434_LP3_ICS3.ipynb",
   "provenance": []
  },
  "kernelspec": {
   "display_name": "Python 3",
   "language": "python",
   "name": "python3"
  },
  "language_info": {
   "codemirror_mode": {
    "name": "ipython",
    "version": 3
   },
   "file_extension": ".py",
   "mimetype": "text/x-python",
   "name": "python",
   "nbconvert_exporter": "python",
   "pygments_lexer": "ipython3",
   "version": "3.8.5"
  }
 },
 "nbformat": 4,
 "nbformat_minor": 1
}
